{
 "cells": [
  {
   "cell_type": "code",
   "execution_count": 9,
   "metadata": {},
   "outputs": [
    {
     "data": {
      "text/plain": [
       "SimpleLogger(VSCodeServer.IJuliaCore.IJuliaStdio{Base.PipeEndpoint, typeof(VSCodeServer.io_send_callback)}(IOContext(Base.PipeEndpoint(RawFD(23) open, 0 bytes waiting)), VSCodeServer.io_send_callback), Info, Dict{Any, Int64}())"
      ]
     },
     "metadata": {},
     "output_type": "display_data"
    }
   ],
   "source": [
    "using Damysos,HDF5,CairoMakie,CSV,DataFrames,ProgressLogging,TerminalLoggers,LoggingExtras\n",
    "global_logger(TerminalLogger())"
   ]
  },
  {
   "cell_type": "code",
   "execution_count": 6,
   "metadata": {},
   "outputs": [
    {
     "data": {
      "text/plain": [
       "load_hdf5_files (generic function with 1 method)"
      ]
     },
     "metadata": {},
     "output_type": "display_data"
    }
   ],
   "source": [
    "function load_hdf5_files(path::String)\n",
    "\tallfiles = String[]\n",
    "\tfor (root, dirs, files) in walkdir(path)\n",
    "\t\tfor file in files\n",
    "\t\t\tfile[end-4:end] == \".hdf5\" && file[1:4] == \"conv\" && push!(allfiles,\n",
    "\t\t\t\t\tjoinpath(root, file))\n",
    "\t\tend\n",
    "\tend\n",
    "\t@info \"$(length(allfiles)) files found.\"\n",
    "\treturn allfiles\n",
    "end"
   ]
  },
  {
   "cell_type": "code",
   "execution_count": 7,
   "metadata": {},
   "outputs": [
    {
     "name": "stderr",
     "output_type": "stream",
     "text": [
      "┌ Info: 1024 files found.\n",
      "└ @ Main /home/hpc/b228da/b228da10/Damysos.jl/jupyter/runtime-analysis.ipynb:9\n"
     ]
    },
    {
     "data": {
      "text/plain": [
       "1024-element Vector{String}:\n",
       " \"/home/atuin/b228da/b228da10/zet\"\u001b[93m\u001b[1m ⋯ 141 bytes ⋯ \u001b[22m\u001b[39m\"ta=0.1_dt_PowerLawTest_dt.hdf5\"\n",
       " \"/home/atuin/b228da/b228da10/zet\"\u001b[93m\u001b[1m ⋯ 141 bytes ⋯ \u001b[22m\u001b[39m\"ta=0.1_dt_PowerLawTest_dt.hdf5\"\n",
       " \"/home/atuin/b228da/b228da10/zet\"\u001b[93m\u001b[1m ⋯ 141 bytes ⋯ \u001b[22m\u001b[39m\"ta=0.1_dt_PowerLawTest_dt.hdf5\"\n",
       " \"/home/atuin/b228da/b228da10/zet\"\u001b[93m\u001b[1m ⋯ 141 bytes ⋯ \u001b[22m\u001b[39m\"ta=0.1_dt_PowerLawTest_dt.hdf5\"\n",
       " \"/home/atuin/b228da/b228da10/zet\"\u001b[93m\u001b[1m ⋯ 125 bytes ⋯ \u001b[22m\u001b[39m\"ta=0.1_dt_PowerLawTest_dt.hdf5\"\n",
       " \"/home/atuin/b228da/b228da10/zet\"\u001b[93m\u001b[1m ⋯ 141 bytes ⋯ \u001b[22m\u001b[39m\"ta=0.1_dt_PowerLawTest_dt.hdf5\"\n",
       " \"/home/atuin/b228da/b228da10/zet\"\u001b[93m\u001b[1m ⋯ 140 bytes ⋯ \u001b[22m\u001b[39m\"ta=0.1_dt_PowerLawTest_dt.hdf5\"\n",
       " \"/home/atuin/b228da/b228da10/zet\"\u001b[93m\u001b[1m ⋯ 141 bytes ⋯ \u001b[22m\u001b[39m\"ta=0.1_dt_PowerLawTest_dt.hdf5\"\n",
       " \"/home/atuin/b228da/b228da10/zet\"\u001b[93m\u001b[1m ⋯ 140 bytes ⋯ \u001b[22m\u001b[39m\"ta=0.1_dt_PowerLawTest_dt.hdf5\"\n",
       " \"/home/atuin/b228da/b228da10/zet\"\u001b[93m\u001b[1m ⋯ 140 bytes ⋯ \u001b[22m\u001b[39m\"ta=0.1_dt_PowerLawTest_dt.hdf5\"\n",
       " ⋮\n",
       " \"/home/atuin/b228da/b228da10/zet\"\u001b[93m\u001b[1m ⋯ 168 bytes ⋯ \u001b[22m\u001b[39m\"753032_dt_PowerLawTest_dt.hdf5\"\n",
       " \"/home/atuin/b228da/b228da10/zet\"\u001b[93m\u001b[1m ⋯ 167 bytes ⋯ \u001b[22m\u001b[39m\"753032_dt_PowerLawTest_dt.hdf5\"\n",
       " \"/home/atuin/b228da/b228da10/zet\"\u001b[93m\u001b[1m ⋯ 168 bytes ⋯ \u001b[22m\u001b[39m\"753032_dt_PowerLawTest_dt.hdf5\"\n",
       " \"/home/atuin/b228da/b228da10/zet\"\u001b[93m\u001b[1m ⋯ 165 bytes ⋯ \u001b[22m\u001b[39m\"753032_dt_PowerLawTest_dt.hdf5\"\n",
       " \"/home/atuin/b228da/b228da10/zet\"\u001b[93m\u001b[1m ⋯ 168 bytes ⋯ \u001b[22m\u001b[39m\"753032_dt_PowerLawTest_dt.hdf5\"\n",
       " \"/home/atuin/b228da/b228da10/zet\"\u001b[93m\u001b[1m ⋯ 168 bytes ⋯ \u001b[22m\u001b[39m\"753032_dt_PowerLawTest_dt.hdf5\"\n",
       " \"/home/atuin/b228da/b228da10/zet\"\u001b[93m\u001b[1m ⋯ 167 bytes ⋯ \u001b[22m\u001b[39m\"753032_dt_PowerLawTest_dt.hdf5\"\n",
       " \"/home/atuin/b228da/b228da10/zet\"\u001b[93m\u001b[1m ⋯ 167 bytes ⋯ \u001b[22m\u001b[39m\"753032_dt_PowerLawTest_dt.hdf5\"\n",
       " \"/home/atuin/b228da/b228da10/zet\"\u001b[93m\u001b[1m ⋯ 167 bytes ⋯ \u001b[22m\u001b[39m\"753032_dt_PowerLawTest_dt.hdf5\""
      ]
     },
     "metadata": {},
     "output_type": "display_data"
    }
   ],
   "source": [
    "dtpath = \"/home/atuin/b228da/b228da10/zeta-M-sweep/dt\"\n",
    "dtfiles = load_hdf5_files(dtpath)"
   ]
  },
  {
   "cell_type": "code",
   "execution_count": 18,
   "metadata": {},
   "outputs": [
    {
     "data": {
      "text/plain": [
       "collectresults (generic function with 1 method)"
      ]
     },
     "metadata": {},
     "output_type": "display_data"
    }
   ],
   "source": [
    "function collectresults(files::Vector{String})\n",
    "\n",
    "\tgoodfiles = String[]\n",
    "\tcoord = Tuple{Float64,Float64}[]\n",
    "\tzetas = Float64[]\n",
    "\tms = Float64[]\n",
    "\tdts = Float64[]\n",
    "\tdkxs = Float64[]\n",
    "\trtols = Float64[]\n",
    "\tatols = Float64[]\n",
    "\truntimes = Float64[]\n",
    "\n",
    "\t@progress for f in files\n",
    "\n",
    "\t\tm = match(r\"M=([0-9.]+)_zeta=([0-9.]+)\", basename(f))\n",
    "\t\tif isnothing(m)\n",
    "\t\t\t@warn \"No regex match for $(pattern) in $f\"\n",
    "\t\t\tcontinue\n",
    "\t\tend\n",
    "\t\t\n",
    "\t\tM = parse(Float64, m.captures[1])\n",
    "\t\tz = parse(Float64, m.captures[2])\n",
    "\n",
    "\t\tif (M,z) ∈ coord\n",
    "\t\t\t@warn \"Duplicate at at zeta = $z M = $M.Skipping...\"\n",
    "\t\t\tcontinue\n",
    "\t\tend\n",
    "\n",
    "\t\th5open(f,\"r\") do file\n",
    "\t\t\tif \"testresult\" ∈ keys(file)\n",
    "\t\t\t\tif successful_retcode(ReturnCode.T(read(file[\"testresult\"],\"retcode\")))\n",
    "\t\t\t\t\tparams = NumericalParams2d(read(file[\"testresult\"],\"last_params\"))\n",
    "\n",
    "\t\t\t\t\tpush!(rtols,read(file[\"testresult\"],\"achieved_rtol\"))\n",
    "\t\t\t\t\tpush!(atols,read(file[\"testresult\"],\"achieved_atol\"))\n",
    "\t\t\t\t\tpush!(dkxs,params.dkx)\n",
    "\t\t\t\t\tpush!(dts,params.dt)\n",
    "\t\t\t\t\tpush!(goodfiles,f)\n",
    "\t\t\t\t\tpush!(ms,M)\n",
    "\t\t\t\t\tpush!(zetas,z)\n",
    "\t\t\t\t\tpush!(coord,(M,z))\n",
    "\t\t\t\t\tpush!(runtimes,read(file[\"testresult\"],\"elapsed_time_sec\"))\n",
    "\t\t\t\telse\n",
    "\t\t\t\t\t@info \"Result not converged at at zeta = $z M = $M in $f\"\n",
    "\t\t\t\tend\n",
    "\n",
    "\t\t\telse\n",
    "\t\t\t\t@warn \"testresult not found at zeta = $z M = $M in $f\"\n",
    "\t\t\tend\n",
    "\t\tend\n",
    "\n",
    "\tend\n",
    "\n",
    "\treturn DataFrame(\n",
    "\t\t:path => goodfiles,\n",
    "\t\t:zeta => zetas,\n",
    "\t\t:M => ms,\n",
    "\t\t:dt => dts,\n",
    "\t\t:dkx => dkxs,\n",
    "\t\t:rtol => rtols,\n",
    "\t\t:atol => atols,\n",
    "\t\t:runtime => runtimes)\n",
    "end"
   ]
  },
  {
   "cell_type": "code",
   "execution_count": 19,
   "metadata": {},
   "outputs": [
    {
     "name": "stderr",
     "output_type": "stream",
     "text": [
      "\u001b[32mProgress:   0%|                                         |  ETA: N/A\u001b[39m\n",
      "\u001b[32mProgress:   1%|▎                                        |  ETA: 0:00:02\u001b[39m\n",
      "\u001b[32mProgress:   1%|▌                                        |  ETA: 0:00:02\u001b[39m\n",
      "\u001b[32mProgress:   2%|▊                                        |  ETA: 0:00:02\u001b[39m\n",
      "\u001b[32mProgress:   2%|█                                        |  ETA: 0:00:02\u001b[39m\n",
      "\u001b[32mProgress:   3%|█▎                                       |  ETA: 0:00:02\u001b[39m\n",
      "\u001b[32mProgress:   4%|█▌                                       |  ETA: 0:00:02\u001b[39m\n",
      "\u001b[32mProgress:   4%|█▋                                       |  ETA: 0:00:02\u001b[39m\n",
      "\u001b[32mProgress:   5%|█▉                                       |  ETA: 0:00:02\u001b[39m\n",
      "\u001b[32mProgress:   5%|██▏                                      |  ETA: 0:00:02\u001b[39m\n",
      "\u001b[32mProgress:   6%|██▍                                      |  ETA: 0:00:02\u001b[39m\n",
      "\u001b[32mProgress:   6%|██▋                                      |  ETA: 0:00:01\u001b[39m\n",
      "\u001b[32mProgress:   7%|██▉                                      |  ETA: 0:00:01\u001b[39m\n",
      "\u001b[32mProgress:   8%|███▏                                     |  ETA: 0:00:01\u001b[39m\n",
      "\u001b[32mProgress:   8%|███▍                                     |  ETA: 0:00:01\u001b[39m\n",
      "\u001b[32mProgress:   9%|███▋                                     |  ETA: 0:00:01\u001b[39m\n",
      "\u001b[32mProgress:   9%|███▉                                     |  ETA: 0:00:01\u001b[39m\n",
      "\u001b[32mProgress:  10%|████▏                                    |  ETA: 0:00:01\u001b[39m\n",
      "\u001b[32mProgress:  11%|████▍                                    |  ETA: 0:00:01\u001b[39m\n",
      "\u001b[32mProgress:  11%|████▋                                    |  ETA: 0:00:01\u001b[39m\n",
      "\u001b[32mProgress:  12%|████▊                                    |  ETA: 0:00:01\u001b[39m\n",
      "\u001b[32mProgress:  12%|█████                                    |  ETA: 0:00:01\u001b[39m\n",
      "\u001b[32mProgress:  13%|█████▎                                   |  ETA: 0:00:01\u001b[39m\n",
      "\u001b[32mProgress:  13%|█████▌                                   |  ETA: 0:00:01\u001b[39m\n",
      "\u001b[32mProgress:  14%|█████▊                                   |  ETA: 0:00:01\u001b[39m\n",
      "\u001b[32mProgress:  15%|██████                                   |  ETA: 0:00:01\u001b[39m\n",
      "\u001b[32mProgress:  15%|██████▎                                  |  ETA: 0:00:01\u001b[39m\n",
      "\u001b[32mProgress:  16%|██████▌                                  |  ETA: 0:00:01\u001b[39m\n",
      "\u001b[32mProgress:  16%|██████▊                                  |  ETA: 0:00:01\u001b[39m\n",
      "\u001b[32mProgress:  17%|███████                                  |  ETA: 0:00:01\u001b[39m\n",
      "\u001b[32mProgress:  18%|███████▎                                 |  ETA: 0:00:01\u001b[39m\n",
      "\u001b[32mProgress:  18%|███████▌                                 |  ETA: 0:00:01\u001b[39m\n",
      "\u001b[32mProgress:  19%|███████▊                                 |  ETA: 0:00:01\u001b[39m\n",
      "\u001b[32mProgress:  19%|███████▉                                 |  ETA: 0:00:01\u001b[39m\n",
      "\u001b[32mProgress:  20%|████████▏                                |  ETA: 0:00:01\u001b[39m\n",
      "\u001b[32mProgress:  21%|████████▍                                |  ETA: 0:00:01\u001b[39m\n",
      "\u001b[32mProgress:  21%|████████▋                                |  ETA: 0:00:01\u001b[39m\n",
      "\u001b[32mProgress:  22%|████████▉                                |  ETA: 0:00:01\u001b[39m\n",
      "\u001b[32mProgress:  22%|█████████▏                               |  ETA: 0:00:01\u001b[39m\n",
      "\u001b[32mProgress:  23%|█████████▍                               |  ETA: 0:00:01\u001b[39m\n",
      "\u001b[32mProgress:  23%|█████████▋                               |  ETA: 0:00:01\u001b[39m\n",
      "\u001b[32mProgress:  24%|█████████▉                               |  ETA: 0:00:01\u001b[39m\n",
      "\u001b[32mProgress:  25%|██████████▏                              |  ETA: 0:00:01\u001b[39m\n",
      "\u001b[32mProgress:  25%|██████████▍                              |  ETA: 0:00:01\u001b[39m\n",
      "\u001b[32mProgress:  26%|██████████▋                              |  ETA: 0:00:01\u001b[39m\n",
      "\u001b[32mProgress:  26%|██████████▊                              |  ETA: 0:00:01\u001b[39m\n",
      "\u001b[32mProgress:  27%|███████████                              |  ETA: 0:00:01\u001b[39m\n",
      "\u001b[32mProgress:  28%|███████████▎                             |  ETA: 0:00:01\u001b[39m\n",
      "\u001b[32mProgress:  28%|███████████▌                             |  ETA: 0:00:01\u001b[39m\n",
      "\u001b[32mProgress:  29%|███████████▊                             |  ETA: 0:00:01\u001b[39m\n",
      "\u001b[32mProgress:  29%|████████████                             |  ETA: 0:00:01\u001b[39m\n",
      "\u001b[32mProgress:  30%|████████████▎                            |  ETA: 0:00:01\u001b[39m\n",
      "\u001b[32mProgress:  30%|████████████▌                            |  ETA: 0:00:01\u001b[39m\n",
      "\u001b[32mProgress:  31%|████████████▊                            |  ETA: 0:00:01\u001b[39m\n",
      "\u001b[32mProgress:  32%|█████████████                            |  ETA: 0:00:01\u001b[39m\n",
      "\u001b[32mProgress:  32%|█████████████▎                           |  ETA: 0:00:01\u001b[39m\n",
      "\u001b[32mProgress:  33%|█████████████▌                           |  ETA: 0:00:01\u001b[39m\n",
      "\u001b[32mProgress:  33%|█████████████▊                           |  ETA: 0:00:01\u001b[39m\n",
      "\u001b[32mProgress:  34%|█████████████▉                           |  ETA: 0:00:01\u001b[39m\n",
      "\u001b[32mProgress:  35%|██████████████▏                          |  ETA: 0:00:01\u001b[39m\n",
      "\u001b[32mProgress:  35%|██████████████▍                          |  ETA: 0:00:01\u001b[39m\n",
      "\u001b[32mProgress:  36%|██████████████▋                          |  ETA: 0:00:01\u001b[39m\n",
      "\u001b[32mProgress:  36%|██████████████▉                          |  ETA: 0:00:01\u001b[39m\n",
      "\u001b[32mProgress:  37%|███████████████▏                         |  ETA: 0:00:01\u001b[39m\n",
      "\u001b[32mProgress:  38%|███████████████▍                         |  ETA: 0:00:01\u001b[39m\n",
      "\u001b[32mProgress:  38%|███████████████▋                         |  ETA: 0:00:01\u001b[39m\n",
      "\u001b[32mProgress:  39%|███████████████▉                         |  ETA: 0:00:01\u001b[39m\n",
      "\u001b[32mProgress:  39%|████████████████▏                        |  ETA: 0:00:01\u001b[39m\n",
      "\u001b[32mProgress:  40%|████████████████▍                        |  ETA: 0:00:01\u001b[39m\n",
      "\u001b[32mProgress:  40%|████████████████▋                        |  ETA: 0:00:01\u001b[39m\n",
      "\u001b[32mProgress:  41%|████████████████▉                        |  ETA: 0:00:01\u001b[39m\n",
      "\u001b[32mProgress:  42%|█████████████████                        |  ETA: 0:00:01\u001b[39m\n",
      "\u001b[32mProgress:  42%|█████████████████▎                       |  ETA: 0:00:01\u001b[39m\n",
      "\u001b[32mProgress:  43%|█████████████████▌                       |  ETA: 0:00:01\u001b[39m\n",
      "\u001b[32mProgress:  43%|█████████████████▊                       |  ETA: 0:00:01\u001b[39m\n",
      "\u001b[32mProgress:  44%|██████████████████                       |  ETA: 0:00:01\u001b[39m\n",
      "\u001b[32mProgress:  45%|██████████████████▎                      |  ETA: 0:00:01\u001b[39m\n",
      "\u001b[32mProgress:  45%|██████████████████▌                      |  ETA: 0:00:01\u001b[39m\n",
      "\u001b[32mProgress:  46%|██████████████████▊                      |  ETA: 0:00:01\u001b[39m\n",
      "\u001b[32mProgress:  46%|███████████████████                      |  ETA: 0:00:01\u001b[39m\n",
      "\u001b[32mProgress:  47%|███████████████████▎                     |  ETA: 0:00:01\u001b[39m\n",
      "\u001b[32mProgress:  47%|███████████████████▌                     |  ETA: 0:00:01\u001b[39m\n",
      "\u001b[32mProgress:  48%|███████████████████▊                     |  ETA: 0:00:01\u001b[39m\n",
      "\u001b[32mProgress:  49%|████████████████████                     |  ETA: 0:00:01\u001b[39m\n",
      "\u001b[32mProgress:  49%|████████████████████▏                    |  ETA: 0:00:01\u001b[39m\n",
      "\u001b[32mProgress:  50%|████████████████████▍                    |  ETA: 0:00:01\u001b[39m\n",
      "\u001b[32mProgress:  50%|████████████████████▋                    |  ETA: 0:00:01\u001b[39m\n",
      "\u001b[32mProgress:  51%|████████████████████▉                    |  ETA: 0:00:01\u001b[39m\n",
      "\u001b[32mProgress:  52%|█████████████████████▏                   |  ETA: 0:00:01\u001b[39m\n",
      "\u001b[32mProgress:  52%|█████████████████████▍                   |  ETA: 0:00:01\u001b[39m\n",
      "\u001b[32mProgress:  53%|█████████████████████▋                   |  ETA: 0:00:01\u001b[39m\n",
      "\u001b[32mProgress:  53%|█████████████████████▉                   |  ETA: 0:00:01\u001b[39m\n",
      "\u001b[32mProgress:  54%|██████████████████████▏                  |  ETA: 0:00:01\u001b[39m\n",
      "\u001b[32mProgress:  54%|██████████████████████▍                  |  ETA: 0:00:01\u001b[39m\n",
      "\u001b[32mProgress:  55%|██████████████████████▋                  |  ETA: 0:00:01\u001b[39m\n",
      "\u001b[32mProgress:  56%|██████████████████████▉                  |  ETA: 0:00:01\u001b[39m\n",
      "\u001b[32mProgress:  56%|███████████████████████                  |  ETA: 0:00:01\u001b[39m\n",
      "\u001b[32mProgress:  57%|███████████████████████▎                 |  ETA: 0:00:01\u001b[39m\n",
      "\u001b[32mProgress:  57%|███████████████████████▌                 |  ETA: 0:00:01\u001b[39m\n",
      "\u001b[32mProgress:  58%|███████████████████████▊                 |  ETA: 0:00:01\u001b[39m\n",
      "\u001b[32mProgress:  59%|████████████████████████                 |  ETA: 0:00:01\u001b[39m\n",
      "\u001b[32mProgress:  59%|████████████████████████▎                |  ETA: 0:00:01\u001b[39m\n",
      "\u001b[32mProgress:  60%|████████████████████████▌                |  ETA: 0:00:01\u001b[39m\n",
      "\u001b[32mProgress:  60%|████████████████████████▊                |  ETA: 0:00:01\u001b[39m\n",
      "\u001b[32mProgress:  61%|█████████████████████████                |  ETA: 0:00:01\u001b[39m\n",
      "\u001b[32mProgress:  62%|█████████████████████████▎               |  ETA: 0:00:01\u001b[39m\n",
      "\u001b[32mProgress:  62%|█████████████████████████▌               |  ETA: 0:00:01\u001b[39m\n",
      "\u001b[32mProgress:  63%|█████████████████████████▊               |  ETA: 0:00:01\u001b[39m\n",
      "\u001b[32mProgress:  63%|██████████████████████████               |  ETA: 0:00:01\u001b[39m\n",
      "\u001b[32mProgress:  64%|██████████████████████████▏              |  ETA: 0:00:01\u001b[39m\n",
      "\u001b[32mProgress:  64%|██████████████████████████▍              |  ETA: 0:00:01\u001b[39m\n",
      "\u001b[32mProgress:  65%|██████████████████████████▋              |  ETA: 0:00:01\u001b[39m\n",
      "\u001b[32mProgress:  66%|██████████████████████████▉              |  ETA: 0:00:01\u001b[39m\n",
      "\u001b[32mProgress:  66%|███████████████████████████▏             |  ETA: 0:00:01\u001b[39m\n",
      "\u001b[32mProgress:  67%|███████████████████████████▍             |  ETA: 0:00:01\u001b[39m\n",
      "\u001b[32mProgress:  67%|███████████████████████████▋             |  ETA: 0:00:01\u001b[39m\n",
      "\u001b[32mProgress:  68%|███████████████████████████▉             |  ETA: 0:00:00\u001b[39m\n",
      "\u001b[32mProgress:  69%|████████████████████████████▏            |  ETA: 0:00:00\u001b[39m\n",
      "\u001b[32mProgress:  69%|████████████████████████████▍            |  ETA: 0:00:00\u001b[39m\n",
      "\u001b[32mProgress:  70%|████████████████████████████▋            |  ETA: 0:00:00\u001b[39m\n",
      "\u001b[32mProgress:  70%|████████████████████████████▉            |  ETA: 0:00:00\u001b[39m\n",
      "\u001b[32mProgress:  71%|█████████████████████████████▏           |  ETA: 0:00:00\u001b[39m\n",
      "\u001b[32mProgress:  71%|█████████████████████████████▎           |  ETA: 0:00:00\u001b[39m\n",
      "\u001b[32mProgress:  72%|█████████████████████████████▌           |  ETA: 0:00:00\u001b[39m\n",
      "\u001b[32mProgress:  73%|█████████████████████████████▊           |  ETA: 0:00:00\u001b[39m\n",
      "\u001b[32mProgress:  73%|██████████████████████████████           |  ETA: 0:00:00\u001b[39m\n",
      "\u001b[32mProgress:  74%|██████████████████████████████▎          |  ETA: 0:00:00\u001b[39m\n",
      "\u001b[32mProgress:  74%|██████████████████████████████▌          |  ETA: 0:00:00\u001b[39m\n",
      "\u001b[32mProgress:  75%|██████████████████████████████▊          |  ETA: 0:00:00\u001b[39m\n",
      "\u001b[32mProgress:  76%|███████████████████████████████          |  ETA: 0:00:00\u001b[39m\n",
      "\u001b[32mProgress:  76%|███████████████████████████████▎         |  ETA: 0:00:00\u001b[39m\n",
      "\u001b[32mProgress:  77%|███████████████████████████████▌         |  ETA: 0:00:00\u001b[39m\n",
      "\u001b[32mProgress:  77%|███████████████████████████████▊         |  ETA: 0:00:00\u001b[39m\n",
      "\u001b[32mProgress:  78%|████████████████████████████████         |  ETA: 0:00:00\u001b[39m\n",
      "\u001b[32mProgress:  79%|████████████████████████████████▎        |  ETA: 0:00:00\u001b[39m\n",
      "\u001b[32mProgress:  79%|████████████████████████████████▍        |  ETA: 0:00:00\u001b[39m\n",
      "\u001b[32mProgress:  80%|████████████████████████████████▋        |  ETA: 0:00:00\u001b[39m\n",
      "\u001b[32mProgress:  80%|████████████████████████████████▉        |  ETA: 0:00:00\u001b[39m\n",
      "\u001b[32mProgress:  81%|█████████████████████████████████▏       |  ETA: 0:00:00\u001b[39m\n",
      "\u001b[32mProgress:  81%|█████████████████████████████████▍       |  ETA: 0:00:00\u001b[39m\n",
      "\u001b[32mProgress:  82%|█████████████████████████████████▋       |  ETA: 0:00:00\u001b[39m\n",
      "\u001b[32mProgress:  83%|█████████████████████████████████▉       |  ETA: 0:00:00\u001b[39m\n",
      "\u001b[32mProgress:  83%|██████████████████████████████████▏      |  ETA: 0:00:00\u001b[39m\n",
      "\u001b[32mProgress:  84%|██████████████████████████████████▍      |  ETA: 0:00:00\u001b[39m\n",
      "\u001b[32mProgress:  84%|██████████████████████████████████▋      |  ETA: 0:00:00\u001b[39m\n",
      "\u001b[32mProgress:  85%|██████████████████████████████████▉      |  ETA: 0:00:00\u001b[39m\n",
      "\u001b[32mProgress:  86%|███████████████████████████████████▏     |  ETA: 0:00:00\u001b[39m\n",
      "\u001b[32mProgress:  86%|███████████████████████████████████▍     |  ETA: 0:00:00\u001b[39m\n",
      "\u001b[32mProgress:  87%|███████████████████████████████████▌     |  ETA: 0:00:00\u001b[39m\n",
      "\u001b[32mProgress:  87%|███████████████████████████████████▊     |  ETA: 0:00:00\u001b[39m\n",
      "\u001b[32mProgress:  88%|████████████████████████████████████     |  ETA: 0:00:00\u001b[39m\n",
      "\u001b[32mProgress:  88%|████████████████████████████████████▎    |  ETA: 0:00:00\u001b[39m\n",
      "\u001b[32mProgress:  89%|████████████████████████████████████▌    |  ETA: 0:00:00\u001b[39m\n",
      "\u001b[32mProgress:  90%|████████████████████████████████████▊    |  ETA: 0:00:00\u001b[39m\n",
      "\u001b[32mProgress:  90%|█████████████████████████████████████    |  ETA: 0:00:00\u001b[39m\n",
      "\u001b[32mProgress:  91%|█████████████████████████████████████▎   |  ETA: 0:00:00\u001b[39m\n",
      "\u001b[32mProgress:  91%|█████████████████████████████████████▌   |  ETA: 0:00:00\u001b[39m\n",
      "\u001b[32mProgress:  92%|█████████████████████████████████████▊   |  ETA: 0:00:00\u001b[39m\n",
      "\u001b[32mProgress:  93%|██████████████████████████████████████   |  ETA: 0:00:00\u001b[39m\n",
      "\u001b[32mProgress:  93%|██████████████████████████████████████▎  |  ETA: 0:00:00\u001b[39m\n",
      "\u001b[32mProgress:  94%|██████████████████████████████████████▌  |  ETA: 0:00:00\u001b[39m\n",
      "\u001b[32mProgress:  94%|██████████████████████████████████████▋  |  ETA: 0:00:00\u001b[39m\n",
      "\u001b[32mProgress:  95%|██████████████████████████████████████▉  |  ETA: 0:00:00\u001b[39m\n",
      "\u001b[32mProgress:  96%|███████████████████████████████████████▏ |  ETA: 0:00:00\u001b[39m\n",
      "\u001b[32mProgress:  96%|███████████████████████████████████████▍ |  ETA: 0:00:00\u001b[39m\n",
      "\u001b[32mProgress:  97%|███████████████████████████████████████▋ |  ETA: 0:00:00\u001b[39m\n",
      "\u001b[32mProgress:  97%|███████████████████████████████████████▉ |  ETA: 0:00:00\u001b[39m\n",
      "\u001b[32mProgress:  98%|████████████████████████████████████████▏|  ETA: 0:00:00\u001b[39m\n",
      "\u001b[32mProgress:  98%|████████████████████████████████████████▍|  ETA: 0:00:00\u001b[39m\n",
      "\u001b[32mProgress:  99%|████████████████████████████████████████▋|  ETA: 0:00:00\u001b[39m\n",
      "\u001b[32mProgress: 100%|████████████████████████████████████████▉|  ETA: 0:00:00\u001b[39m\n",
      "\u001b[90mProgress: 100%|█████████████████████████████████████████| Time: 0:00:01\u001b[39m\n"
     ]
    },
    {
     "data": {
      "text/plain": [
       "173.37846622799998"
      ]
     },
     "metadata": {},
     "output_type": "display_data"
    }
   ],
   "source": [
    "dtres = collectresults(dtfiles)\n",
    "maximum(dtres.runtime)"
   ]
  },
  {
   "cell_type": "code",
   "execution_count": 20,
   "metadata": {},
   "outputs": [
    {
     "data": {
      "text/plain": [
       "mean (generic function with 1 method)"
      ]
     },
     "metadata": {},
     "output_type": "display_data"
    }
   ],
   "source": [
    "mean(x::Vector{<:Number}) = sum(x) / length(x)"
   ]
  },
  {
   "cell_type": "code",
   "execution_count": 21,
   "metadata": {},
   "outputs": [
    {
     "data": {
      "text/plain": [
       "77.73308751852052"
      ]
     },
     "metadata": {},
     "output_type": "display_data"
    }
   ],
   "source": [
    "@info \"\""
   ]
  },
  {
   "cell_type": "code",
   "execution_count": null,
   "metadata": {},
   "outputs": [],
   "source": []
  }
 ],
 "metadata": {
  "kernelspec": {
   "display_name": "Julia 1.10.4",
   "language": "julia",
   "name": "julia-1.10"
  },
  "language_info": {
   "file_extension": ".jl",
   "mimetype": "application/julia",
   "name": "julia",
   "version": "1.10.4"
  }
 },
 "nbformat": 4,
 "nbformat_minor": 2
}
