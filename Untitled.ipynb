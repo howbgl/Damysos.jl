{
 "cells": [
  {
   "cell_type": "code",
   "execution_count": 5,
   "id": "8f432fdd-9d72-41de-b83c-5260cdf5f7ec",
   "metadata": {},
   "outputs": [],
   "source": [
    "using Damysos\n",
    "using DifferentialEquations"
   ]
  },
  {
   "cell_type": "code",
   "execution_count": 9,
   "id": "cab917b4-407d-4860-b13e-34133d9a0c49",
   "metadata": {},
   "outputs": [
    {
     "ename": "LoadError",
     "evalue": "MethodError: no method matching GappedDirac(::UnitScaling{Float64}, ::Quantity{Float64, 𝐋^2 𝐌 𝐓^-2, Unitful.FreeUnits{(eV,), 𝐋^2 𝐌 𝐓^-2, nothing}}, ::Quantity{Float64, 𝐋 𝐓^-1, Unitful.FreeUnits{(m, s^-1), 𝐋 𝐓^-1, nothing}}, ::Quantity{Float64, 𝐓, Unitful.FreeUnits{(s,), 𝐓, nothing}}, ::Quantity{Float64, 𝐓, Unitful.FreeUnits{(s,), 𝐓, nothing}})",
     "output_type": "error",
     "traceback": [
      "MethodError: no method matching GappedDirac(::UnitScaling{Float64}, ::Quantity{Float64, 𝐋^2 𝐌 𝐓^-2, Unitful.FreeUnits{(eV,), 𝐋^2 𝐌 𝐓^-2, nothing}}, ::Quantity{Float64, 𝐋 𝐓^-1, Unitful.FreeUnits{(m, s^-1), 𝐋 𝐓^-1, nothing}}, ::Quantity{Float64, 𝐓, Unitful.FreeUnits{(s,), 𝐓, nothing}}, ::Quantity{Float64, 𝐓, Unitful.FreeUnits{(s,), 𝐓, nothing}})",
      "",
      "Stacktrace:",
      " [1] make_system(ζ::Float64, M::Float64, subpath::String; plotpath_base::String, datapath_base::String, rtol::Float64, atol::Float64)",
      "   @ Main ./In[9]:32",
      " [2] make_system(ζ::Float64, M::Float64, subpath::String)",
      "   @ Main ./In[9]:8",
      " [3] top-level scope",
      "   @ In[9]:52"
     ]
    }
   ],
   "source": [
    "using Damysos,StaticArrays,Distributed\n",
    "\n",
    "import Damysos.buildrhs_cc_cv_x_expression\n",
    "import Damysos.buildobservable_expression_upt\n",
    "import Damysos.buildbzmask_expression_upt\n",
    "\n",
    "\n",
    "@everywhere function make_system(\n",
    "      ζ::Real,\n",
    "      M::Real,\n",
    "      subpath::AbstractString;\n",
    "      plotpath_base=\"/home/how09898/phd/plots\",\n",
    "      datapath_base=\"/home/how09898/phd/data\",\n",
    "      rtol=1e-12,\n",
    "      atol=1e-12)\n",
    "\n",
    "      vf        = u\"497070.0m/s\"\n",
    "      m         = u\"0.02eV\"\n",
    "      # freq      = u\"25.0THz\"\n",
    "      # emax      = u\"0.5MV/cm\"\n",
    "      t2        = Inf*u\"1.0s\"\n",
    "      t1        = Inf*u\"1.0s\"\n",
    "      e         = uconvert(u\"C\",1u\"eV\"/1u\"V\")\n",
    "      \n",
    "      γ         = M / ζ\n",
    "      ω         = 2m / (M * Unitful.ħ)\n",
    "      freq      = uconvert(u\"THz\",ω/2π)\n",
    "      σ         = uconvert(u\"fs\",1/freq)\n",
    "      emax      = uconvert(u\"MV/cm\",ω*m / (vf * e * γ))\n",
    "      us        = scaledriving_frequency(freq,vf)\n",
    "      df        = GaussianEPulse(us,σ,freq,emax)\n",
    "      h         = GappedDirac(us,m,vf,t1,t2)\n",
    "\n",
    "      dt      = 0.005\n",
    "      ts      = -5df.σ:dt:5df.σ\n",
    "      kxmax   = 6*maximum_kdisplacement(df,ts)[1]\n",
    "      kymax   = 1.0\n",
    "      dkx     = 2kxmax / 1_200\n",
    "      dky     = 1.0\n",
    "\n",
    "      pars    = NumericalParams2d(dkx,dky,kxmax,kymax,dt,-5df.σ,rtol,atol)\n",
    "      obs     = [Velocity(h),Occupation(h)]\n",
    "\n",
    "      id      = \"gamma=$(round(γ,sigdigits=3))_zeta=$(round(ζ,sigdigits=3))\"\n",
    "      name    = \"Simulation(2d)_$(id)_$(random_word())\"\n",
    "      dpath   = joinpath(datapath_base,subpath,name)\n",
    "      ppath   = joinpath(plotpath_base,subpath,name)\n",
    "\n",
    "      return Simulation(h,df,pars,obs,us,2,id,dpath,ppath)\n",
    "end\n",
    "\n",
    "sim = make_system(2.39,0.1,\"bullshit\")\n",
    "\n",
    "rhsccex,rhscvex = buildrhs_cc_cv_x_expression(sim)\n",
    "\n",
    "@everywhere @eval rhscc(cc,cv,kx,ky,t)  = $rhsccex\n",
    "@everywhere @eval rhscv(cc,cv,kx,ky,t)  = $rhscvex\n",
    "@everywhere @eval obs(u,p,t)            = $(buildobservable_expression_upt(sim))\n",
    "@everywhere @eval bzmask(p,t)           = $(buildbzmask_expression_upt(sim))\n",
    "\n",
    "@everywhere @eval rhs(u,p,t)        = $(buildrhs_x_expression(sim))\n",
    "@everywhere @eval bzmask(kx,ky,t)   = $(buildbzmask_expression(sim))\n",
    "@everywhere @eval f(u,kx,ky,t)      = $(buildobservable_expression(sim))"
   ]
  },
  {
   "cell_type": "code",
   "execution_count": 8,
   "id": "8970c9fa-a5d2-4278-aaa0-0d81cbeec427",
   "metadata": {},
   "outputs": [
    {
     "data": {
      "text/plain": [
       "\u001b[38;2;86;182;194mODEProblem\u001b[0m with uType \u001b[38;2;86;182;194mSVector{2, ComplexF64}\u001b[0m and tType \u001b[38;2;86;182;194mFloat64\u001b[0m. In-place: \u001b[38;2;86;182;194mfalse\u001b[0m\n",
       "timespan: (0.0, 0.0)\n",
       "u0: 2-element SVector{2, ComplexF64} with indices SOneTo(2):\n",
       " 0.0 + 0.0im\n",
       " 0.0 + 0.0im"
      ]
     },
     "execution_count": 8,
     "metadata": {},
     "output_type": "execute_result"
    }
   ],
   "source": [
    "prob = ODEProblem(rhs,SA[0.0im,0.0im],SA[0.0,0.0])"
   ]
  },
  {
   "cell_type": "code",
   "execution_count": null,
   "id": "5ba690d9-593e-4071-a1b2-f8fb92ae0132",
   "metadata": {},
   "outputs": [],
   "source": [
    "ts = gettsamples(sim)"
   ]
  }
 ],
 "metadata": {
  "kernelspec": {
   "display_name": "Julia 1.10.2",
   "language": "julia",
   "name": "julia-1.10"
  },
  "language_info": {
   "file_extension": ".jl",
   "mimetype": "application/julia",
   "name": "julia",
   "version": "1.10.2"
  }
 },
 "nbformat": 4,
 "nbformat_minor": 5
}
