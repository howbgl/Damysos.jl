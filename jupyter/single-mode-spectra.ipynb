{
 "cells": [
  {
   "cell_type": "code",
   "execution_count": 2,
   "id": "361eb962-6a7a-4b5f-9dc8-d5e2ef30b481",
   "metadata": {},
   "outputs": [],
   "source": [
    "using Damysos"
   ]
  },
  {
   "cell_type": "code",
   "execution_count": null,
   "id": "c28c63fa-0a6f-4465-a054-fe5307e4106c",
   "metadata": {},
   "outputs": [],
   "source": []
  }
 ],
 "metadata": {
  "kernelspec": {
   "display_name": "Julia 1.10.2",
   "language": "julia",
   "name": "julia-1.10"
  },
  "language_info": {
   "file_extension": ".jl",
   "mimetype": "application/julia",
   "name": "julia",
   "version": "1.10.2"
  }
 },
 "nbformat": 4,
 "nbformat_minor": 5
}
