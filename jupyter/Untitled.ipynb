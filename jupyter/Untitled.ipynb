{
 "cells": [
  {
   "cell_type": "code",
   "execution_count": 7,
   "id": "54f485ab-094f-4c54-af48-da89fb5b9373",
   "metadata": {},
   "outputs": [],
   "source": [
    "using Damysos"
   ]
  },
  {
   "cell_type": "code",
   "execution_count": 8,
   "id": "c96fe57a-1cd5-4ab0-9584-5001e5fc3a0c",
   "metadata": {},
   "outputs": [],
   "source": [
    "using CairoMakie"
   ]
  },
  {
   "cell_type": "code",
   "execution_count": null,
   "id": "fc20e889-6420-4592-84a9-ab567ca26765",
   "metadata": {},
   "outputs": [],
   "source": []
  }
 ],
 "metadata": {
  "kernelspec": {
   "display_name": "Julia 1.10.1",
   "language": "julia",
   "name": "julia-1.10"
  },
  "language_info": {
   "file_extension": ".jl",
   "mimetype": "application/julia",
   "name": "julia",
   "version": "1.10.1"
  }
 },
 "nbformat": 4,
 "nbformat_minor": 5
}
